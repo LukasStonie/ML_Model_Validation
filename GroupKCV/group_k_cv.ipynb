{
 "cells": [
  {
   "cell_type": "code",
   "execution_count": 20,
   "id": "initial_id",
   "metadata": {
    "collapsed": true,
    "ExecuteTime": {
     "end_time": "2023-10-27T11:21:33.339076Z",
     "start_time": "2023-10-27T11:21:33.303590Z"
    }
   },
   "outputs": [],
   "source": [
    "#data science and visualization\n",
    "import numpy as np\n",
    "import pandas as pd\n",
    "import matplotlib.pyplot as plt\n",
    "\n",
    "#creation of dataset\n",
    "import lib.ml_workflow.create_dataset as cds\n",
    "from lib.raman_lib.misc import load_data\n",
    "\n",
    "#quality control\n",
    "import lib.ml_workflow.quality_control as qc\n",
    "from lib.raman_lib.preprocessing import RangeLimiter\n",
    "from lib.raman_lib.visualization import plot_spectra_peaks\n",
    "from lib.raman_lib.spectra_scoring import score_names\n",
    "\n",
    "#preprocessing\n",
    "from lib.ml_workflow.preprocess_data import preprocess\n",
    "\n",
    "#model creation\n",
    "from sklearn.model_selection import GroupKFold\n",
    "\n",
    "#file handling\n",
    "from pathlib import Path\n",
    "import os"
   ]
  },
  {
   "cell_type": "code",
   "execution_count": 2,
   "outputs": [],
   "source": [
    "# define the paths to all experiment data\n",
    "# each dir contains all the files associated with that experiment\n",
    "# each file has a prefix that indicates the group and the measurement --> group_measurement_.....\n",
    "path_etoposide = \"/Users/Praktikum/Documents/HL428/Roiss_L-428_aggregated/Etoposide\"\n",
    "path_resveratrol = \"/Users/Praktikum/Documents/HL428/Roiss_L-428_aggregated/Resveratrol\"\n",
    "path_both = \"/Users/Praktikum/Documents/HL428/Roiss_L-428_aggregated/Both\"\n",
    "path_control = \"/Users/Praktikum/Documents/HL428/Roiss_L-428_aggregated/Control\""
   ],
   "metadata": {
    "collapsed": false,
    "ExecuteTime": {
     "end_time": "2023-10-27T10:58:42.179776Z",
     "start_time": "2023-10-27T10:58:42.168759Z"
    }
   },
   "id": "ba556eab9c01a73e"
  },
  {
   "cell_type": "markdown",
   "source": [
    "# Define parameters\n",
    "In order to function properly, the provided code depends on predefined parameters like output paths, limits and thresholds for the quality control, ...\n",
    "## Define data paths\n",
    "Define the location of the data, and where quality-controlled and preprocessed data should be stored. Both of them rely on a unique file-prefix that describes the data being analyzed."
   ],
   "metadata": {
    "collapsed": false
   },
   "id": "11e036c91d7db2d8"
  },
  {
   "cell_type": "code",
   "execution_count": 3,
   "outputs": [],
   "source": [
    "FILE_PREFIX = \"HL_428_E_R\"\n",
    "DATASET_OUT = \"./data/\" + FILE_PREFIX + \".csv\"\n",
    "RESULT_DIR = \"./result/\" + FILE_PREFIX\n",
    "QC_OUT = RESULT_DIR+\"/\"+FILE_PREFIX+\"_qc.csv\"\n",
    "PREP_OUT= RESULT_DIR+\"/\"+FILE_PREFIX+\"_preprocessed.csv\"\n"
   ],
   "metadata": {
    "collapsed": false,
    "ExecuteTime": {
     "end_time": "2023-10-27T10:58:42.179960Z",
     "start_time": "2023-10-27T10:58:42.172477Z"
    }
   },
   "id": "1946c00c0f432539"
  },
  {
   "cell_type": "markdown",
   "source": [
    "## Define quality scoring parameters\n",
    "The quality control only uses peaks in a given interval, recognizes peaks via a filter (Sav-Gol) and scores them based on some metrics. Finally, the best N spectra are selected.\n",
    "### Spectral Range Limits"
   ],
   "metadata": {
    "collapsed": false
   },
   "id": "66d7b25691ed478d"
  },
  {
   "cell_type": "code",
   "execution_count": 4,
   "outputs": [],
   "source": [
    "QC_LIM_LOW = 450\n",
    "QC_LIM_HIGH = 1650"
   ],
   "metadata": {
    "collapsed": false,
    "ExecuteTime": {
     "end_time": "2023-10-27T10:58:42.180177Z",
     "start_time": "2023-10-27T10:58:42.176228Z"
    }
   },
   "id": "fff0616d8e842c0c"
  },
  {
   "cell_type": "markdown",
   "source": [
    "### Peak Detection"
   ],
   "metadata": {
    "collapsed": false
   },
   "id": "f63cf8bfe34cc1a8"
  },
  {
   "cell_type": "code",
   "execution_count": 5,
   "outputs": [],
   "source": [
    "QC_WINDOW = 35\n",
    "QC_THRESHOLD = 0.001\n",
    "QC_MIN_HEIGHT = 50"
   ],
   "metadata": {
    "collapsed": false,
    "ExecuteTime": {
     "end_time": "2023-10-27T10:58:42.210672Z",
     "start_time": "2023-10-27T10:58:42.183370Z"
    }
   },
   "id": "f81d42c2fd60e19d"
  },
  {
   "cell_type": "markdown",
   "source": [
    "### Scoring"
   ],
   "metadata": {
    "collapsed": false
   },
   "id": "d20494720e3b96b8"
  },
  {
   "cell_type": "code",
   "execution_count": 6,
   "outputs": [],
   "source": [
    "QC_SCORE = 1\n",
    "QC_PEAKS = 1"
   ],
   "metadata": {
    "collapsed": false,
    "ExecuteTime": {
     "end_time": "2023-10-27T10:58:42.211017Z",
     "start_time": "2023-10-27T10:58:42.186585Z"
    }
   },
   "id": "418848038e5d1a9e"
  },
  {
   "cell_type": "markdown",
   "source": [
    "### Number of spectra to keep"
   ],
   "metadata": {
    "collapsed": false
   },
   "id": "5c551c0e33d85517"
  },
  {
   "cell_type": "code",
   "execution_count": 7,
   "outputs": [],
   "source": [
    "QC_NUM = 300"
   ],
   "metadata": {
    "collapsed": false,
    "ExecuteTime": {
     "end_time": "2023-10-27T10:58:42.211177Z",
     "start_time": "2023-10-27T10:58:42.188740Z"
    }
   },
   "id": "42f0202cfb120473"
  },
  {
   "cell_type": "markdown",
   "source": [
    "## Define Preprocessing Parameter\n",
    "### Spectral Range Limits"
   ],
   "metadata": {
    "collapsed": false
   },
   "id": "bc7e2a73121e88a1"
  },
  {
   "cell_type": "code",
   "execution_count": 8,
   "outputs": [],
   "source": [
    "PREP_LIM_LOW=QC_LIM_LOW\n",
    "PREP_LIM_HIGH=QC_LIM_HIGH"
   ],
   "metadata": {
    "collapsed": false,
    "ExecuteTime": {
     "end_time": "2023-10-27T10:58:42.211321Z",
     "start_time": "2023-10-27T10:58:42.192318Z"
    }
   },
   "id": "11b623608b1feaae"
  },
  {
   "cell_type": "markdown",
   "source": [
    "### Window-width for smoothing"
   ],
   "metadata": {
    "collapsed": false
   },
   "id": "d22fa452dd59a708"
  },
  {
   "cell_type": "code",
   "execution_count": 9,
   "outputs": [],
   "source": [
    "PREP_WINDOW=15"
   ],
   "metadata": {
    "collapsed": false,
    "ExecuteTime": {
     "end_time": "2023-10-27T10:58:42.211457Z",
     "start_time": "2023-10-27T10:58:42.196702Z"
    }
   },
   "id": "8de2ac3f3e1b555"
  },
  {
   "cell_type": "markdown",
   "source": [
    "# Create the dataset\n",
    "Create the dataset using the implementation provided by D. Zimmermann.\n",
    "For the creation of the dataset, the two source dirs, as well as the desired labels are needed.\n",
    "Furthermore, an output directory is needed, to store the created dataset "
   ],
   "metadata": {
    "collapsed": false
   },
   "id": "7fe948f6032b8211"
  },
  {
   "cell_type": "code",
   "execution_count": 10,
   "outputs": [
    {
     "name": "stderr",
     "output_type": "stream",
     "text": [
      "root - INFO - Loading data\n",
      "root - INFO - Loading data\n",
      "root - INFO - Loading data\n",
      "root - INFO - Loading files from /Users/Praktikum/Documents/HL428/Roiss_L-428_aggregated/Etoposide\n",
      "root - INFO - Loading files from /Users/Praktikum/Documents/HL428/Roiss_L-428_aggregated/Etoposide\n",
      "root - INFO - Loading files from /Users/Praktikum/Documents/HL428/Roiss_L-428_aggregated/Etoposide\n",
      "root - INFO - Loading files from /Users/Praktikum/Documents/HL428/Roiss_L-428_aggregated/Resveratrol\n",
      "root - INFO - Loading files from /Users/Praktikum/Documents/HL428/Roiss_L-428_aggregated/Resveratrol\n",
      "root - INFO - Loading files from /Users/Praktikum/Documents/HL428/Roiss_L-428_aggregated/Resveratrol\n",
      "root - INFO - Finished loading data.\n",
      "root - INFO - Finished loading data.\n",
      "root - INFO - Finished loading data.\n"
     ]
    }
   ],
   "source": [
    "datadir = Path(DATASET_OUT).parent\n",
    "if not os.path.exists(datadir):\n",
    "    os.makedirs(datadir)\n",
    "\n",
    "dataset = cds.create_dataset([path_etoposide, path_resveratrol], ['Etoposide', 'Resveratrol'], grouped=True)\n",
    "dataset.to_csv(DATASET_OUT, index=False)"
   ],
   "metadata": {
    "collapsed": false,
    "ExecuteTime": {
     "end_time": "2023-10-27T10:58:45.448189Z",
     "start_time": "2023-10-27T10:58:42.201269Z"
    }
   },
   "id": "a89e1a63a6c033fb"
  },
  {
   "cell_type": "markdown",
   "source": [
    "# Do quality control\n",
    "Asses the spectra based on their quality, and remove low quality spectra"
   ],
   "metadata": {
    "collapsed": false
   },
   "id": "61b13fd9e23ddc42"
  },
  {
   "cell_type": "code",
   "execution_count": 11,
   "outputs": [
    {
     "name": "stdout",
     "output_type": "stream",
     "text": [
      "Intel MKL WARNING: Support of Intel(R) Streaming SIMD Extensions 4.2 (Intel(R) SSE4.2) enabled only processors has been deprecated. Intel oneAPI Math Kernel Library 2025.0 will require Intel(R) Advanced Vector Extensions (Intel(R) AVX) instructions.\n",
      "Intel MKL WARNING: Support of Intel(R) Streaming SIMD Extensions 4.2 (Intel(R) SSE4.2) enabled only processors has been deprecated. Intel oneAPI Math Kernel Library 2025.0 will require Intel(R) Advanced Vector Extensions (Intel(R) AVX) instructions.\n",
      "Intel MKL WARNING: Support of Intel(R) Streaming SIMD Extensions 4.2 (Intel(R) SSE4.2) enabled only processors has been deprecated. Intel oneAPI Math Kernel Library 2025.0 will require Intel(R) Advanced Vector Extensions (Intel(R) AVX) instructions.\n",
      "Intel MKL WARNING: Support of Intel(R) Streaming SIMD Extensions 4.2 (Intel(R) SSE4.2) enabled only processors has been deprecated. Intel oneAPI Math Kernel Library 2025.0 will require Intel(R) Advanced Vector Extensions (Intel(R) AVX) instructions.\n",
      "Intel MKL WARNING: Support of Intel(R) Streaming SIMD Extensions 4.2 (Intel(R) SSE4.2) enabled only processors has been deprecated. Intel oneAPI Math Kernel Library 2025.0 will require Intel(R) Advanced Vector Extensions (Intel(R) AVX) instructions.\n",
      "Intel MKL WARNING: Support of Intel(R) Streaming SIMD Extensions 4.2 (Intel(R) SSE4.2) enabled only processors has been deprecated. Intel oneAPI Math Kernel Library 2025.0 will require Intel(R) Advanced Vector Extensions (Intel(R) AVX) instructions.\n",
      "Intel MKL WARNING: Support of Intel(R) Streaming SIMD Extensions 4.2 (Intel(R) SSE4.2) enabled only processors has been deprecated. Intel oneAPI Math Kernel Library 2025.0 will require Intel(R) Advanced Vector Extensions (Intel(R) AVX) instructions.\n",
      "Intel MKL WARNING: Support of Intel(R) Streaming SIMD Extensions 4.2 (Intel(R) SSE4.2) enabled only processors has been deprecated. Intel oneAPI Math Kernel Library 2025.0 will require Intel(R) Advanced Vector Extensions (Intel(R) AVX) instructions.\n",
      "Intel MKL WARNING: Support of Intel(R) Streaming SIMD Extensions 4.2 (Intel(R) SSE4.2) enabled only processors has been deprecated. Intel oneAPI Math Kernel Library 2025.0 will require Intel(R) Advanced Vector Extensions (Intel(R) AVX) instructions.\n",
      "Intel MKL WARNING: Support of Intel(R) Streaming SIMD Extensions 4.2 (Intel(R) SSE4.2) enabled only processors has been deprecated. Intel oneAPI Math Kernel Library 2025.0 will require Intel(R) Advanced Vector Extensions (Intel(R) AVX) instructions.\n",
      "Intel MKL WARNING: Support of Intel(R) Streaming SIMD Extensions 4.2 (Intel(R) SSE4.2) enabled only processors has been deprecated. Intel oneAPI Math Kernel Library 2025.0 will require Intel(R) Advanced Vector Extensions (Intel(R) AVX) instructions.\n",
      "Intel MKL WARNING: Support of Intel(R) Streaming SIMD Extensions 4.2 (Intel(R) SSE4.2) enabled only processors has been deprecated. Intel oneAPI Math Kernel Library 2025.0 will require Intel(R) Advanced Vector Extensions (Intel(R) AVX) instructions.\n",
      "Intel MKL WARNING: Support of Intel(R) Streaming SIMD Extensions 4.2 (Intel(R) SSE4.2) enabled only processors has been deprecated. Intel oneAPI Math Kernel Library 2025.0 will require Intel(R) Advanced Vector Extensions (Intel(R) AVX) instructions.\n",
      "Intel MKL WARNING: Support of Intel(R) Streaming SIMD Extensions 4.2 (Intel(R) SSE4.2) enabled only processors has been deprecated. Intel oneAPI Math Kernel Library 2025.0 will require Intel(R) Advanced Vector Extensions (Intel(R) AVX) instructions.\n",
      "Intel MKL WARNING: Support of Intel(R) Streaming SIMD Extensions 4.2 (Intel(R) SSE4.2) enabled only processors has been deprecated. Intel oneAPI Math Kernel Library 2025.0 will require Intel(R) Advanced Vector Extensions (Intel(R) AVX) instructions.\n",
      "Intel MKL WARNING: Support of Intel(R) Streaming SIMD Extensions 4.2 (Intel(R) SSE4.2) enabled only processors has been deprecated. Intel oneAPI Math Kernel Library 2025.0 will require Intel(R) Advanced Vector Extensions (Intel(R) AVX) instructions.\n",
      "Analyzed 722 spectra in 5.08 seconds.\n",
      "Mean Score: 16871\n",
      "\n",
      "1st Quartile: 7319\n",
      "Median Score: 13751\n",
      "3rd Quartile: 22582\n",
      "\n",
      "Min Score: 0\n",
      "Max Score: 96616\n"
     ]
    }
   ],
   "source": [
    "path_in = Path(DATASET_OUT)\n",
    "path_out = Path(RESULT_DIR)\n",
    "\n",
    "if not os.path.exists(path_out):\n",
    "    os.makedirs(path_out)\n",
    "\n",
    "path_out_data = path_out / (path_in.stem + \"_qc.csv\")\n",
    "path_out_scores = path_out / (path_in.stem + \"_qc_scores.csv\")\n",
    "\n",
    "data = pd.read_csv(path_in)\n",
    "\n",
    "data_out, _, score_dict = qc.score_sort_spectra(data,\n",
    "                                                n=QC_NUM,\n",
    "                                                limits=[QC_LIM_LOW, QC_LIM_HIGH],\n",
    "                                                bl_method=\"asls\",\n",
    "                                                sg_window=QC_WINDOW,\n",
    "                                                threshold=QC_THRESHOLD,\n",
    "                                                min_height=QC_MIN_HEIGHT,\n",
    "                                                score_measure=QC_SCORE,\n",
    "                                                n_peaks_influence=QC_PEAKS,\n",
    "                                                detailed=True)\n",
    "\n",
    "visualize = False\n",
    "if visualize:\n",
    "\n",
    "    data_vis = data.drop(columns=[\"label\", \"file\", \"group\"]).values.astype(float)\n",
    "    wns_vis = data.drop(columns=[\"label\", \"file\", \"group\"]).columns.astype(float)\n",
    "\n",
    "    rl = RangeLimiter(lim=[QC_LIM_LOW, QC_LIM_HIGH],\n",
    "                      reference=wns_vis)\n",
    "\n",
    "    data_rl = rl.fit_transform(data_vis)\n",
    "    wns_rl = wns_vis[rl.lim_[0]:rl.lim_[1]]\n",
    "\n",
    "    plot_spectra_peaks(wns_rl,\n",
    "                       data_rl,\n",
    "                       score_dict[\"peak_pos\"],\n",
    "                       labels=score_dict[\"total_scores\"])\n",
    "\n",
    "data_out.to_csv(path_out_data, index=False)\n",
    "\n",
    "pd.DataFrame({score_names[QC_SCORE]: score_dict[\"intensity_scores\"],\n",
    "              \"N Peaks\": score_dict[\"peak_scores\"]}).to_csv(\n",
    "    path_out_scores, index=False\n",
    ")"
   ],
   "metadata": {
    "collapsed": false,
    "ExecuteTime": {
     "end_time": "2023-10-27T10:58:53.093743Z",
     "start_time": "2023-10-27T10:58:45.448706Z"
    }
   },
   "id": "73f701f36659ab53"
  },
  {
   "cell_type": "markdown",
   "source": [
    "# Preprocess the data"
   ],
   "metadata": {
    "collapsed": false
   },
   "id": "400014d013f6e91f"
  },
  {
   "cell_type": "code",
   "execution_count": 22,
   "outputs": [
    {
     "name": "stdout",
     "output_type": "stream",
     "text": [
      "Intel MKL WARNING: Support of Intel(R) Streaming SIMD Extensions 4.2 (Intel(R) SSE4.2) enabled only processors has been deprecated. Intel oneAPI Math Kernel Library 2025.0 will require Intel(R) Advanced Vector Extensions (Intel(R) AVX) instructions.\n",
      "Intel MKL WARNING: Support of Intel(R) Streaming SIMD Extensions 4.2 (Intel(R) SSE4.2) enabled only processors has been deprecated. Intel oneAPI Math Kernel Library 2025.0 will require Intel(R) Advanced Vector Extensions (Intel(R) AVX) instructions.\n",
      "Intel MKL WARNING: Support of Intel(R) Streaming SIMD Extensions 4.2 (Intel(R) SSE4.2) enabled only processors has been deprecated. Intel oneAPI Math Kernel Library 2025.0 will require Intel(R) Advanced Vector Extensions (Intel(R) AVX) instructions.\n",
      "Intel MKL WARNING: Support of Intel(R) Streaming SIMD Extensions 4.2 (Intel(R) SSE4.2) enabled only processors has been deprecated. Intel oneAPI Math Kernel Library 2025.0 will require Intel(R) Advanced Vector Extensions (Intel(R) AVX) instructions.\n",
      "Intel MKL WARNING: Support of Intel(R) Streaming SIMD Extensions 4.2 (Intel(R) SSE4.2) enabled only processors has been deprecated. Intel oneAPI Math Kernel Library 2025.0 will require Intel(R) Advanced Vector Extensions (Intel(R) AVX) instructions.\n",
      "Intel MKL WARNING: Support of Intel(R) Streaming SIMD Extensions 4.2 (Intel(R) SSE4.2) enabled only processors has been deprecated. Intel oneAPI Math Kernel Library 2025.0 will require Intel(R) Advanced Vector Extensions (Intel(R) AVX) instructions.\n",
      "Intel MKL WARNING: Support of Intel(R) Streaming SIMD Extensions 4.2 (Intel(R) SSE4.2) enabled only processors has been deprecated. Intel oneAPI Math Kernel Library 2025.0 will require Intel(R) Advanced Vector Extensions (Intel(R) AVX) instructions.\n",
      "Intel MKL WARNING: Support of Intel(R) Streaming SIMD Extensions 4.2 (Intel(R) SSE4.2) enabled only processors has been deprecated. Intel oneAPI Math Kernel Library 2025.0 will require Intel(R) Advanced Vector Extensions (Intel(R) AVX) instructions.\n",
      "Intel MKL WARNING: Support of Intel(R) Streaming SIMD Extensions 4.2 (Intel(R) SSE4.2) enabled only processors has been deprecated. Intel oneAPI Math Kernel Library 2025.0 will require Intel(R) Advanced Vector Extensions (Intel(R) AVX) instructions.\n",
      "Intel MKL WARNING: Support of Intel(R) Streaming SIMD Extensions 4.2 (Intel(R) SSE4.2) enabled only processors has been deprecated. Intel oneAPI Math Kernel Library 2025.0 will require Intel(R) Advanced Vector Extensions (Intel(R) AVX) instructions.\n",
      "Intel MKL WARNING: Support of Intel(R) Streaming SIMD Extensions 4.2 (Intel(R) SSE4.2) enabled only processors has been deprecated. Intel oneAPI Math Kernel Library 2025.0 will require Intel(R) Advanced Vector Extensions (Intel(R) AVX) instructions.\n",
      "Intel MKL WARNING: Support of Intel(R) Streaming SIMD Extensions 4.2 (Intel(R) SSE4.2) enabled only processors has been deprecated. Intel oneAPI Math Kernel Library 2025.0 will require Intel(R) Advanced Vector Extensions (Intel(R) AVX) instructions.\n",
      "Intel MKL WARNING: Support of Intel(R) Streaming SIMD Extensions 4.2 (Intel(R) SSE4.2) enabled only processors has been deprecated. Intel oneAPI Math Kernel Library 2025.0 will require Intel(R) Advanced Vector Extensions (Intel(R) AVX) instructions.\n",
      "Intel MKL WARNING: Support of Intel(R) Streaming SIMD Extensions 4.2 (Intel(R) SSE4.2) enabled only processors has been deprecated. Intel oneAPI Math Kernel Library 2025.0 will require Intel(R) Advanced Vector Extensions (Intel(R) AVX) instructions.\n",
      "Intel MKL WARNING: Support of Intel(R) Streaming SIMD Extensions 4.2 (Intel(R) SSE4.2) enabled only processors has been deprecated. Intel oneAPI Math Kernel Library 2025.0 will require Intel(R) Advanced Vector Extensions (Intel(R) AVX) instructions.\n",
      "Intel MKL WARNING: Support of Intel(R) Streaming SIMD Extensions 4.2 (Intel(R) SSE4.2) enabled only processors has been deprecated. Intel oneAPI Math Kernel Library 2025.0 will require Intel(R) Advanced Vector Extensions (Intel(R) AVX) instructions.\n"
     ]
    }
   ],
   "source": [
    "path_in = Path(QC_OUT)\n",
    "path_out = Path(RESULT_DIR)\n",
    "\n",
    "filename = path_in.stem.removesuffix(\"_qc\")\n",
    "\n",
    "if not os.path.exists(path_out):\n",
    "    os.makedirs(path_out)\n",
    "\n",
    "path_out = path_out / (filename + \"_preprocessed.csv\")\n",
    "\n",
    "data = load_data(QC_OUT)\n",
    "\n",
    "# save groups and remove column, otherwise preprocess won't work\n",
    "groups = np.asarray(data.group)\n",
    "data = data.drop(columns=[\"group\"])\n",
    "\n",
    "data_prep = preprocess(data, limits=[PREP_LIM_LOW, PREP_LIM_HIGH], sg_window=PREP_WINDOW)\n",
    "\n",
    "#add groups again\n",
    "data_prep.insert(2, \"group\", groups)\n",
    "\n",
    "data_prep.to_csv(path_out, index=False)"
   ],
   "metadata": {
    "collapsed": false,
    "ExecuteTime": {
     "end_time": "2023-10-27T11:22:43.961441Z",
     "start_time": "2023-10-27T11:22:40.505499Z"
    }
   },
   "id": "241a139a0b6a349f"
  },
  {
   "cell_type": "code",
   "execution_count": 23,
   "outputs": [
    {
     "name": "stdout",
     "output_type": "stream",
     "text": [
      "./result/HL_428_E_R/HL_428_E_R_preprocessed.csv\n",
      "Fold 0:\n",
      "  Train: index=[  1   2   6   7   8   9  10  12  13  14  15  16  17  18  21  22  23  24\n",
      "  25  26  28  29  31  32  36  37  39  40  41  42  46  47  48  50  51  52\n",
      "  53  54  55  58  59  61  62  63  64  65  67  69  70  71  73  74  75  76\n",
      "  77  78  79  81  82  83  85  86  87  88  89  92  93  94  95  96  97  98\n",
      "  99 101 102 103 106 107 108 109 110 111 112 115 116 117 120 121 122 123\n",
      " 125 126 127 128 129 130 134 135 137 138 139 140 141 142 143 144 145 146\n",
      " 147 148 149 152 154 157 158 159 160 162 163 164 165 166 167 168 169 171\n",
      " 172 177 178 180 182 183 184 185 186 190 191 192 193 194 195 196 198 199\n",
      " 200 201 203 205 207 209 210 211 212 216 217 219 222 224 225 226 227 229\n",
      " 231 232 233 234 236 237 240 242 244 245 246 247 248 249 252 255 257 258\n",
      " 259 260 261 265 266 267 270 271 272 274 276 278 281 282 283 284 285 287\n",
      " 288 289 293 294 295 296 297 298 302 303 304 307 310 312 313 314 315 316\n",
      " 321 322 323 324 325 328 329 331 332 333 334 335 336 338 340 341 342 343\n",
      " 344 345 350 352 356 357 358 359 360 366 367 368 369 371 373 374 375 377\n",
      " 378 379 381 383 386 387 388 392 394 395 396 399 400 401 402 404 405 406\n",
      " 407 408 409 410 411 414 415 416 418 419 420 423 424 425 426 427 429 430\n",
      " 432 433 436 438 439 440 445 446 448 449 450 451 452 453 455 457 461 462\n",
      " 463 464 465 466 467 468 469 472 473 474 476 478 480 484 485 486 488 490\n",
      " 492 493 495 496 497 499 502 503 504 507 508 510 512 513 516 517 519 520\n",
      " 521 523 524 525 526 527 528 529 530 532 533 534 535 536 538 539 543 545\n",
      " 546 547 549 556 560 563 564 565 566 567 569 570 572 573 575 576 577 578\n",
      " 581 583 584 586 587 589 590 591 592 594 595 596 598 599], group=[1 2 2 1 2 2 2 2 1 1 1 1 2 2 2 2 2 1 1 1 1 2 1 1 1 2 2 2 1 1 2 1 2 2 2 2 2\n",
      " 1 1 2 2 2 2 2 1 2 1 2 2 2 1 1 1 2 2 2 1 2 1 2 1 2 1 1 1 2 1 2 2 1 1 2 2 2\n",
      " 1 1 1 2 2 2 1 2 2 1 1 2 1 1 2 2 1 2 1 2 2 1 1 1 2 1 1 1 2 2 1 2 1 2 1 2 2\n",
      " 2 2 2 2 1 1 2 2 1 2 1 1 2 1 2 2 2 1 1 2 1 2 1 2 2 1 1 2 2 2 2 2 1 1 2 1 1\n",
      " 1 1 2 2 1 1 1 1 1 1 1 1 1 1 2 2 2 2 2 1 1 1 1 1 1 2 1 1 1 1 2 1 2 1 1 2 1\n",
      " 2 2 1 1 2 2 2 1 1 1 2 2 1 2 1 1 2 1 1 1 2 2 2 1 2 1 2 1 1 2 1 1 2 2 1 1 1\n",
      " 1 1 1 1 2 2 2 2 2 1 1 1 2 1 1 1 2 2 1 2 1 2 2 1 1 2 1 2 2 1 2 2 1 1 1 1 2\n",
      " 2 1 1 1 1 2 1 1 1 2 2 1 1 1 2 1 1 1 1 1 1 1 2 1 2 1 1 1 1 2 1 1 2 2 2 1 2\n",
      " 1 1 2 2 1 1 2 1 1 2 2 2 2 2 1 2 1 1 1 2 2 2 1 2 1 1 1 2 2 2 2 1 2 2 1 1 2\n",
      " 1 2 2 1 2 1 2 1 1 1 1 2 2 2 2 1 1 2 1 2 1 2 2 2 2 1 2 2 1 1 1 1 1 2 2 1 1\n",
      " 2 1 2 2 1 1 2 1 2 2 1 2 1 1 2 2 2 1 2 1 2 2]\n",
      "  Test:  index=[  0   3   4   5  11  19  20  27  30  33  34  35  38  43  44  45  49  56\n",
      "  57  60  66  68  72  80  84  90  91 100 104 105 113 114 118 119 124 131\n",
      " 132 133 136 150 151 153 155 156 161 170 173 174 175 176 179 181 187 188\n",
      " 189 197 202 204 206 208 213 214 215 218 220 221 223 228 230 235 238 239\n",
      " 241 243 250 251 253 254 256 262 263 264 268 269 273 275 277 279 280 286\n",
      " 290 291 292 299 300 301 305 306 308 309 311 317 318 319 320 326 327 330\n",
      " 337 339 346 347 348 349 351 353 354 355 361 362 363 364 365 370 372 376\n",
      " 380 382 384 385 389 390 391 393 397 398 403 412 413 417 421 422 428 431\n",
      " 434 435 437 441 442 443 444 447 454 456 458 459 460 470 471 475 477 479\n",
      " 481 482 483 487 489 491 494 498 500 501 505 506 509 511 514 515 518 522\n",
      " 531 537 540 541 542 544 548 550 551 552 553 554 555 557 558 559 561 562\n",
      " 568 571 574 579 580 582 585 588 593 597], group=[3 3 3 3 3 3 3 3 3 3 3 3 3 3 3 3 3 3 3 3 3 3 3 3 3 3 3 3 3 3 3 3 3 3 3 3 3\n",
      " 3 3 3 3 3 3 3 3 3 3 3 3 3 3 3 3 3 3 3 3 3 3 3 3 3 3 3 3 3 3 3 3 3 3 3 3 3\n",
      " 3 3 3 3 3 3 3 3 3 3 3 3 3 3 3 3 3 3 3 3 3 3 3 3 3 3 3 3 3 3 3 3 3 3 3 3 3\n",
      " 3 3 3 3 3 3 3 3 3 3 3 3 3 3 3 3 3 3 3 3 3 3 3 3 3 3 3 3 3 3 3 3 3 3 3 3 3\n",
      " 3 3 3 3 3 3 3 3 3 3 3 3 3 3 3 3 3 3 3 3 3 3 3 3 3 3 3 3 3 3 3 3 3 3 3 3 3\n",
      " 3 3 3 3 3 3 3 3 3 3 3 3 3 3 3 3 3 3 3 3 3 3 3]\n",
      "Fold 1:\n",
      "  Train: index=[  0   2   3   4   5   6   8   9  10  11  12  17  18  19  20  21  22  23\n",
      "  27  29  30  33  34  35  37  38  39  40  43  44  45  46  48  49  50  51\n",
      "  52  53  56  57  58  59  60  61  62  63  65  66  68  69  70  71  72  76\n",
      "  77  78  80  81  83  84  86  90  91  92  94  95  98  99 100 101 104 105\n",
      " 107 108 109 111 112 113 114 117 118 119 122 123 124 126 128 129 131 132\n",
      " 133 136 137 141 142 144 146 148 149 150 151 152 153 154 155 156 157 158\n",
      " 161 162 163 165 168 170 171 172 173 174 175 176 177 179 181 182 184 186\n",
      " 187 188 189 190 193 194 195 196 197 198 201 202 204 206 208 210 211 213\n",
      " 214 215 218 220 221 223 228 230 231 232 233 234 235 236 238 239 241 243\n",
      " 247 250 251 253 254 256 257 259 262 263 264 265 267 268 269 270 273 274\n",
      " 275 276 277 278 279 280 284 285 286 288 290 291 292 294 298 299 300 301\n",
      " 302 303 305 306 307 308 309 311 312 315 317 318 319 320 322 323 326 327\n",
      " 330 334 335 336 337 338 339 340 344 346 347 348 349 351 353 354 355 356\n",
      " 357 359 361 362 363 364 365 366 367 370 371 372 374 375 376 378 379 380\n",
      " 382 384 385 388 389 390 391 392 393 397 398 400 403 405 406 410 412 413\n",
      " 417 421 422 423 425 428 431 432 434 435 437 438 439 440 441 442 443 444\n",
      " 446 447 450 451 454 455 456 458 459 460 462 463 464 465 466 468 470 471\n",
      " 474 475 476 477 478 479 481 482 483 484 487 489 490 491 492 493 494 495\n",
      " 497 498 499 500 501 504 505 506 508 509 510 511 513 514 515 517 518 522\n",
      " 524 525 526 527 530 531 533 535 536 537 538 539 540 541 542 544 545 546\n",
      " 548 550 551 552 553 554 555 557 558 559 561 562 564 565 568 569 571 572\n",
      " 573 574 577 579 580 581 582 583 585 586 588 590 591 592 593 595 597 598\n",
      " 599], group=[3 2 3 3 3 2 2 2 2 3 2 2 2 3 3 2 2 2 3 2 3 3 3 3 2 3 2 2 3 3 3 2 2 3 2 2 2\n",
      " 2 3 3 2 2 3 2 2 2 2 3 3 2 2 2 3 2 2 2 3 2 2 3 2 3 3 2 2 2 2 2 3 2 3 3 2 2\n",
      " 2 2 2 3 3 2 3 3 2 2 3 2 2 2 3 3 3 3 2 2 2 2 2 2 2 3 3 2 3 2 3 3 2 2 3 2 2\n",
      " 2 2 3 2 2 3 3 3 3 2 3 3 2 2 2 3 3 3 2 2 2 2 2 3 2 2 3 3 3 3 2 2 3 3 3 3 3\n",
      " 3 3 3 3 2 2 2 2 3 2 3 3 3 3 2 3 3 3 3 3 2 2 3 3 3 2 2 3 3 2 3 2 3 2 3 2 3\n",
      " 3 2 2 3 2 3 3 3 2 2 3 3 3 2 2 3 3 2 3 3 3 2 2 3 3 3 3 2 2 3 3 3 2 2 2 3 2\n",
      " 3 2 2 3 3 3 3 3 3 3 3 2 2 2 3 3 3 3 3 2 2 3 2 3 2 2 3 2 2 3 3 3 3 2 3 3 3\n",
      " 2 3 3 3 2 3 2 2 2 3 3 3 3 3 2 2 3 3 2 3 3 3 2 2 2 3 3 3 3 2 3 2 2 3 2 3 3\n",
      " 3 3 2 2 2 2 2 2 3 3 2 3 2 3 2 3 3 3 3 2 3 3 2 3 2 2 3 2 2 3 2 3 3 2 3 3 2\n",
      " 3 2 3 2 3 3 2 3 3 2 2 2 2 2 3 2 2 2 3 2 2 3 3 3 3 2 2 3 3 3 3 3 3 3 3 3 3\n",
      " 3 3 2 2 3 2 3 2 2 3 2 3 3 2 3 2 3 2 3 2 2 2 3 2 3 2 2]\n",
      "  Test:  index=[  1   7  13  14  15  16  24  25  26  28  31  32  36  41  42  47  54  55\n",
      "  64  67  73  74  75  79  82  85  87  88  89  93  96  97 102 103 106 110\n",
      " 115 116 120 121 125 127 130 134 135 138 139 140 143 145 147 159 160 164\n",
      " 166 167 169 178 180 183 185 191 192 199 200 203 205 207 209 212 216 217\n",
      " 219 222 224 225 226 227 229 237 240 242 244 245 246 248 249 252 255 258\n",
      " 260 261 266 271 272 281 282 283 287 289 293 295 296 297 304 310 313 314\n",
      " 316 321 324 325 328 329 331 332 333 341 342 343 345 350 352 358 360 368\n",
      " 369 373 377 381 383 386 387 394 395 396 399 401 402 404 407 408 409 411\n",
      " 414 415 416 418 419 420 424 426 427 429 430 433 436 445 448 449 452 453\n",
      " 457 461 467 469 472 473 480 485 486 488 496 502 503 507 512 516 519 520\n",
      " 521 523 528 529 532 534 543 547 549 556 560 563 566 567 570 575 576 578\n",
      " 584 587 589 594 596], group=[1 1 1 1 1 1 1 1 1 1 1 1 1 1 1 1 1 1 1 1 1 1 1 1 1 1 1 1 1 1 1 1 1 1 1 1 1\n",
      " 1 1 1 1 1 1 1 1 1 1 1 1 1 1 1 1 1 1 1 1 1 1 1 1 1 1 1 1 1 1 1 1 1 1 1 1 1\n",
      " 1 1 1 1 1 1 1 1 1 1 1 1 1 1 1 1 1 1 1 1 1 1 1 1 1 1 1 1 1 1 1 1 1 1 1 1 1\n",
      " 1 1 1 1 1 1 1 1 1 1 1 1 1 1 1 1 1 1 1 1 1 1 1 1 1 1 1 1 1 1 1 1 1 1 1 1 1\n",
      " 1 1 1 1 1 1 1 1 1 1 1 1 1 1 1 1 1 1 1 1 1 1 1 1 1 1 1 1 1 1 1 1 1 1 1 1 1\n",
      " 1 1 1 1 1 1 1 1 1 1 1 1 1 1 1 1 1 1]\n",
      "Fold 2:\n",
      "  Train: index=[  0   1   3   4   5   7  11  13  14  15  16  19  20  24  25  26  27  28\n",
      "  30  31  32  33  34  35  36  38  41  42  43  44  45  47  49  54  55  56\n",
      "  57  60  64  66  67  68  72  73  74  75  79  80  82  84  85  87  88  89\n",
      "  90  91  93  96  97 100 102 103 104 105 106 110 113 114 115 116 118 119\n",
      " 120 121 124 125 127 130 131 132 133 134 135 136 138 139 140 143 145 147\n",
      " 150 151 153 155 156 159 160 161 164 166 167 169 170 173 174 175 176 178\n",
      " 179 180 181 183 185 187 188 189 191 192 197 199 200 202 203 204 205 206\n",
      " 207 208 209 212 213 214 215 216 217 218 219 220 221 222 223 224 225 226\n",
      " 227 228 229 230 235 237 238 239 240 241 242 243 244 245 246 248 249 250\n",
      " 251 252 253 254 255 256 258 260 261 262 263 264 266 268 269 271 272 273\n",
      " 275 277 279 280 281 282 283 286 287 289 290 291 292 293 295 296 297 299\n",
      " 300 301 304 305 306 308 309 310 311 313 314 316 317 318 319 320 321 324\n",
      " 325 326 327 328 329 330 331 332 333 337 339 341 342 343 345 346 347 348\n",
      " 349 350 351 352 353 354 355 358 360 361 362 363 364 365 368 369 370 372\n",
      " 373 376 377 380 381 382 383 384 385 386 387 389 390 391 393 394 395 396\n",
      " 397 398 399 401 402 403 404 407 408 409 411 412 413 414 415 416 417 418\n",
      " 419 420 421 422 424 426 427 428 429 430 431 433 434 435 436 437 441 442\n",
      " 443 444 445 447 448 449 452 453 454 456 457 458 459 460 461 467 469 470\n",
      " 471 472 473 475 477 479 480 481 482 483 485 486 487 488 489 491 494 496\n",
      " 498 500 501 502 503 505 506 507 509 511 512 514 515 516 518 519 520 521\n",
      " 522 523 528 529 531 532 534 537 540 541 542 543 544 547 548 549 550 551\n",
      " 552 553 554 555 556 557 558 559 560 561 562 563 566 567 568 570 571 574\n",
      " 575 576 578 579 580 582 584 585 587 588 589 593 594 596 597], group=[3 1 3 3 3 1 3 1 1 1 1 3 3 1 1 1 3 1 3 1 1 3 3 3 1 3 1 1 3 3 3 1 3 1 1 3 3\n",
      " 3 1 3 1 3 3 1 1 1 1 3 1 3 1 1 1 1 3 3 1 1 1 3 1 1 3 3 1 1 3 3 1 1 3 3 1 1\n",
      " 3 1 1 1 3 3 3 1 1 3 1 1 1 1 1 1 3 3 3 3 3 1 1 3 1 1 1 1 3 3 3 3 3 1 3 1 3\n",
      " 1 1 3 3 3 1 1 3 1 1 3 1 3 1 3 1 3 1 1 3 3 3 1 1 3 1 3 3 1 3 1 1 1 1 3 1 3\n",
      " 3 1 3 3 1 3 1 3 1 1 1 1 1 3 3 1 3 3 1 3 1 1 1 3 3 3 1 3 3 1 1 3 3 3 3 3 1\n",
      " 1 1 3 1 1 3 3 3 1 1 1 1 3 3 3 1 3 3 3 3 1 3 1 1 1 3 3 3 3 1 1 1 3 3 1 1 3\n",
      " 1 1 1 3 3 1 1 1 1 3 3 3 3 1 3 1 3 3 3 1 1 3 3 3 3 3 1 1 3 3 1 3 1 3 1 3 1\n",
      " 3 3 1 1 3 3 3 3 1 1 1 3 3 1 1 1 3 1 1 1 1 1 3 3 1 1 1 3 1 1 1 3 3 1 1 1 3\n",
      " 1 1 3 1 3 3 1 3 3 3 3 3 1 3 1 1 1 1 3 3 1 3 3 3 1 1 1 3 3 1 1 3 3 3 1 3 3\n",
      " 3 1 1 3 1 3 3 3 1 3 3 3 1 1 3 3 1 3 3 1 3 3 1 3 1 1 1 3 1 1 1 3 1 1 3 3 3\n",
      " 3 1 3 1 3 1 3 3 3 3 3 3 1 3 3 3 1 3 3 1 1 1 3 1 3 3 1 1 1 3 3 3 1 3 1 3 1\n",
      " 3 1 1 3]\n",
      "  Test:  index=[  2   6   8   9  10  12  17  18  21  22  23  29  37  39  40  46  48  50\n",
      "  51  52  53  58  59  61  62  63  65  69  70  71  76  77  78  81  83  86\n",
      "  92  94  95  98  99 101 107 108 109 111 112 117 122 123 126 128 129 137\n",
      " 141 142 144 146 148 149 152 154 157 158 162 163 165 168 171 172 177 182\n",
      " 184 186 190 193 194 195 196 198 201 210 211 231 232 233 234 236 247 257\n",
      " 259 265 267 270 274 276 278 284 285 288 294 298 302 303 307 312 315 322\n",
      " 323 334 335 336 338 340 344 356 357 359 366 367 371 374 375 378 379 388\n",
      " 392 400 405 406 410 423 425 432 438 439 440 446 450 451 455 462 463 464\n",
      " 465 466 468 474 476 478 484 490 492 493 495 497 499 504 508 510 513 517\n",
      " 524 525 526 527 530 533 535 536 538 539 545 546 564 565 569 572 573 577\n",
      " 581 583 586 590 591 592 595 598 599], group=[2 2 2 2 2 2 2 2 2 2 2 2 2 2 2 2 2 2 2 2 2 2 2 2 2 2 2 2 2 2 2 2 2 2 2 2 2\n",
      " 2 2 2 2 2 2 2 2 2 2 2 2 2 2 2 2 2 2 2 2 2 2 2 2 2 2 2 2 2 2 2 2 2 2 2 2 2\n",
      " 2 2 2 2 2 2 2 2 2 2 2 2 2 2 2 2 2 2 2 2 2 2 2 2 2 2 2 2 2 2 2 2 2 2 2 2 2\n",
      " 2 2 2 2 2 2 2 2 2 2 2 2 2 2 2 2 2 2 2 2 2 2 2 2 2 2 2 2 2 2 2 2 2 2 2 2 2\n",
      " 2 2 2 2 2 2 2 2 2 2 2 2 2 2 2 2 2 2 2 2 2 2 2 2 2 2 2 2 2 2 2 2 2 2 2 2 2\n",
      " 2 2 2 2]\n"
     ]
    }
   ],
   "source": [
    "print(PREP_OUT)\n",
    "path_in = PREP_OUT\n",
    "#path_out = Path(args.out)\n",
    "\n",
    "#filename = path_in.stem\n",
    "\n",
    "data = load_data(path_in)\n",
    "\n",
    "X = data.drop(columns=[\"label\", \"file\", \"group\"])\n",
    "wns = np.asarray(X.columns.astype(float))\n",
    "X = np.asarray(X)\n",
    "y = np.array(data.label)\n",
    "y, y_key = pd.factorize(y)\n",
    "\n",
    "#split the dataset according to the groups\n",
    "groups = np.array(data.group)\n",
    "group_kfold = GroupKFold(n_splits=3)\n",
    "\n",
    "for i, (train_index, test_index) in enumerate(group_kfold.split(X, y, groups)):\n",
    "    print(f\"Fold {i}:\")\n",
    "    print(f\"  Train: index={train_index}, group={groups[train_index]}\")\n",
    "    print(f\"  Test:  index={test_index}, group={groups[test_index]}\")"
   ],
   "metadata": {
    "collapsed": false,
    "ExecuteTime": {
     "end_time": "2023-10-27T11:23:27.828642Z",
     "start_time": "2023-10-27T11:23:27.486773Z"
    }
   },
   "id": "59488b940e5c4f07"
  },
  {
   "cell_type": "code",
   "execution_count": null,
   "outputs": [],
   "source": [],
   "metadata": {
    "collapsed": false
   },
   "id": "2b2f27d8615f8d80"
  }
 ],
 "metadata": {
  "kernelspec": {
   "display_name": "Python 3",
   "language": "python",
   "name": "python3"
  },
  "language_info": {
   "codemirror_mode": {
    "name": "ipython",
    "version": 2
   },
   "file_extension": ".py",
   "mimetype": "text/x-python",
   "name": "python",
   "nbconvert_exporter": "python",
   "pygments_lexer": "ipython2",
   "version": "2.7.6"
  }
 },
 "nbformat": 4,
 "nbformat_minor": 5
}
