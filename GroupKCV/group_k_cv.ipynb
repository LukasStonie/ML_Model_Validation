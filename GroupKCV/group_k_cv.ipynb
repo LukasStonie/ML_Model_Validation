{
 "cells": [
  {
   "cell_type": "code",
   "execution_count": 1,
   "id": "initial_id",
   "metadata": {
    "collapsed": true,
    "ExecuteTime": {
     "end_time": "2023-10-27T10:58:42.179356Z",
     "start_time": "2023-10-27T10:58:39.599986Z"
    }
   },
   "outputs": [
    {
     "name": "stdout",
     "output_type": "stream",
     "text": [
      "Intel MKL WARNING: Support of Intel(R) Streaming SIMD Extensions 4.2 (Intel(R) SSE4.2) enabled only processors has been deprecated. Intel oneAPI Math Kernel Library 2025.0 will require Intel(R) Advanced Vector Extensions (Intel(R) AVX) instructions.\n",
      "Intel MKL WARNING: Support of Intel(R) Streaming SIMD Extensions 4.2 (Intel(R) SSE4.2) enabled only processors has been deprecated. Intel oneAPI Math Kernel Library 2025.0 will require Intel(R) Advanced Vector Extensions (Intel(R) AVX) instructions.\n"
     ]
    }
   ],
   "source": [
    "#data science and visualization\n",
    "import numpy as np\n",
    "import pandas as pd\n",
    "import matplotlib.pyplot as plt\n",
    "\n",
    "#creation of dataset\n",
    "import lib.ml_workflow.create_dataset as cds\n",
    "from lib.raman_lib.misc import load_data\n",
    "\n",
    "#quality control\n",
    "import lib.ml_workflow.quality_control as qc\n",
    "from lib.raman_lib.preprocessing import RangeLimiter\n",
    "from lib.raman_lib.visualization import plot_spectra_peaks\n",
    "from lib.raman_lib.spectra_scoring import score_names\n",
    "\n",
    "#preprocessing\n",
    "from lib.ml_workflow.preprocess_data import preprocess\n",
    "\n",
    "#file handling\n",
    "from pathlib import Path\n",
    "import os"
   ]
  },
  {
   "cell_type": "code",
   "execution_count": 2,
   "outputs": [],
   "source": [
    "# define the paths to all experiment data\n",
    "# each dir contains all the files associated with that experiment\n",
    "# each file has a prefix that indicates the group and the measurement --> group_measurement_.....\n",
    "path_etoposide = \"/Users/Praktikum/Documents/HL428/Roiss_L-428_aggregated/Etoposide\"\n",
    "path_resveratrol = \"/Users/Praktikum/Documents/HL428/Roiss_L-428_aggregated/Resveratrol\"\n",
    "path_both = \"/Users/Praktikum/Documents/HL428/Roiss_L-428_aggregated/Both\"\n",
    "path_control = \"/Users/Praktikum/Documents/HL428/Roiss_L-428_aggregated/Control\""
   ],
   "metadata": {
    "collapsed": false,
    "ExecuteTime": {
     "end_time": "2023-10-27T10:58:42.179776Z",
     "start_time": "2023-10-27T10:58:42.168759Z"
    }
   },
   "id": "ba556eab9c01a73e"
  },
  {
   "cell_type": "markdown",
   "source": [
    "# Define parameters\n",
    "In order to function properly, the provided code depends on predefined parameters like output paths, limits and thresholds for the quality control, ...\n",
    "## Define data paths\n",
    "Define the location of the data, and where quality-controlled and preprocessed data should be stored. Both of them rely on a unique file-prefix that describes the data being analyzed."
   ],
   "metadata": {
    "collapsed": false
   },
   "id": "11e036c91d7db2d8"
  },
  {
   "cell_type": "code",
   "execution_count": 3,
   "outputs": [],
   "source": [
    "FILE_PREFIX = \"HL_428_E_R\"\n",
    "DATASET_OUT = \"./data/\" + FILE_PREFIX + \".csv\"\n",
    "RESULT_DIR = \"./result/\" + FILE_PREFIX\n",
    "QC_OUT = RESULT_DIR+\"/\"+FILE_PREFIX+\"_qc.csv\"\n",
    "PREP_OUT= RESULT_DIR+\"/\"+FILE_PREFIX+\"_preprocessed.csv\"\n"
   ],
   "metadata": {
    "collapsed": false,
    "ExecuteTime": {
     "end_time": "2023-10-27T10:58:42.179960Z",
     "start_time": "2023-10-27T10:58:42.172477Z"
    }
   },
   "id": "1946c00c0f432539"
  },
  {
   "cell_type": "markdown",
   "source": [
    "## Define quality scoring parameters\n",
    "The quality control only uses peaks in a given interval, recognizes peaks via a filter (Sav-Gol) and scores them based on some metrics. Finally, the best N spectra are selected.\n",
    "### Spectral Range Limits"
   ],
   "metadata": {
    "collapsed": false
   },
   "id": "66d7b25691ed478d"
  },
  {
   "cell_type": "code",
   "execution_count": 4,
   "outputs": [],
   "source": [
    "QC_LIM_LOW = 450\n",
    "QC_LIM_HIGH = 1650"
   ],
   "metadata": {
    "collapsed": false,
    "ExecuteTime": {
     "end_time": "2023-10-27T10:58:42.180177Z",
     "start_time": "2023-10-27T10:58:42.176228Z"
    }
   },
   "id": "fff0616d8e842c0c"
  },
  {
   "cell_type": "markdown",
   "source": [
    "### Peak Detection"
   ],
   "metadata": {
    "collapsed": false
   },
   "id": "f63cf8bfe34cc1a8"
  },
  {
   "cell_type": "code",
   "execution_count": 5,
   "outputs": [],
   "source": [
    "QC_WINDOW = 35\n",
    "QC_THRESHOLD = 0.001\n",
    "QC_MIN_HEIGHT = 50"
   ],
   "metadata": {
    "collapsed": false,
    "ExecuteTime": {
     "end_time": "2023-10-27T10:58:42.210672Z",
     "start_time": "2023-10-27T10:58:42.183370Z"
    }
   },
   "id": "f81d42c2fd60e19d"
  },
  {
   "cell_type": "markdown",
   "source": [
    "### Scoring"
   ],
   "metadata": {
    "collapsed": false
   },
   "id": "d20494720e3b96b8"
  },
  {
   "cell_type": "code",
   "execution_count": 6,
   "outputs": [],
   "source": [
    "QC_SCORE = 1\n",
    "QC_PEAKS = 1"
   ],
   "metadata": {
    "collapsed": false,
    "ExecuteTime": {
     "end_time": "2023-10-27T10:58:42.211017Z",
     "start_time": "2023-10-27T10:58:42.186585Z"
    }
   },
   "id": "418848038e5d1a9e"
  },
  {
   "cell_type": "markdown",
   "source": [
    "### Number of spectra to keep"
   ],
   "metadata": {
    "collapsed": false
   },
   "id": "5c551c0e33d85517"
  },
  {
   "cell_type": "code",
   "execution_count": 7,
   "outputs": [],
   "source": [
    "QC_NUM = 300"
   ],
   "metadata": {
    "collapsed": false,
    "ExecuteTime": {
     "end_time": "2023-10-27T10:58:42.211177Z",
     "start_time": "2023-10-27T10:58:42.188740Z"
    }
   },
   "id": "42f0202cfb120473"
  },
  {
   "cell_type": "markdown",
   "source": [
    "## Define Preprocessing Parameter\n",
    "### Spectral Range Limits"
   ],
   "metadata": {
    "collapsed": false
   },
   "id": "bc7e2a73121e88a1"
  },
  {
   "cell_type": "code",
   "execution_count": 8,
   "outputs": [],
   "source": [
    "PREP_LIM_LOW=QC_LIM_LOW\n",
    "PREP_LIM_HIGH=QC_LIM_HIGH"
   ],
   "metadata": {
    "collapsed": false,
    "ExecuteTime": {
     "end_time": "2023-10-27T10:58:42.211321Z",
     "start_time": "2023-10-27T10:58:42.192318Z"
    }
   },
   "id": "11b623608b1feaae"
  },
  {
   "cell_type": "markdown",
   "source": [
    "### Window-width for smoothing"
   ],
   "metadata": {
    "collapsed": false
   },
   "id": "d22fa452dd59a708"
  },
  {
   "cell_type": "code",
   "execution_count": 9,
   "outputs": [],
   "source": [
    "PREP_WINDOW=15"
   ],
   "metadata": {
    "collapsed": false,
    "ExecuteTime": {
     "end_time": "2023-10-27T10:58:42.211457Z",
     "start_time": "2023-10-27T10:58:42.196702Z"
    }
   },
   "id": "8de2ac3f3e1b555"
  },
  {
   "cell_type": "markdown",
   "source": [
    "# Create the dataset\n",
    "Create the dataset using the implementation provided by D. Zimmermann.\n",
    "For the creation of the dataset, the two source dirs, as well as the desired labels are needed.\n",
    "Furthermore, an output directory is needed, to store the created dataset "
   ],
   "metadata": {
    "collapsed": false
   },
   "id": "7fe948f6032b8211"
  },
  {
   "cell_type": "code",
   "execution_count": 10,
   "outputs": [
    {
     "name": "stderr",
     "output_type": "stream",
     "text": [
      "root - INFO - Loading data\n",
      "root - INFO - Loading data\n",
      "root - INFO - Loading data\n",
      "root - INFO - Loading files from /Users/Praktikum/Documents/HL428/Roiss_L-428_aggregated/Etoposide\n",
      "root - INFO - Loading files from /Users/Praktikum/Documents/HL428/Roiss_L-428_aggregated/Etoposide\n",
      "root - INFO - Loading files from /Users/Praktikum/Documents/HL428/Roiss_L-428_aggregated/Etoposide\n",
      "root - INFO - Loading files from /Users/Praktikum/Documents/HL428/Roiss_L-428_aggregated/Resveratrol\n",
      "root - INFO - Loading files from /Users/Praktikum/Documents/HL428/Roiss_L-428_aggregated/Resveratrol\n",
      "root - INFO - Loading files from /Users/Praktikum/Documents/HL428/Roiss_L-428_aggregated/Resveratrol\n",
      "root - INFO - Finished loading data.\n",
      "root - INFO - Finished loading data.\n",
      "root - INFO - Finished loading data.\n"
     ]
    }
   ],
   "source": [
    "datadir = Path(DATASET_OUT).parent\n",
    "if not os.path.exists(datadir):\n",
    "    os.makedirs(datadir)\n",
    "\n",
    "dataset = cds.create_dataset([path_etoposide, path_resveratrol], ['Etoposide', 'Resveratrol'], grouped=True)\n",
    "dataset.to_csv(DATASET_OUT, index=False)"
   ],
   "metadata": {
    "collapsed": false,
    "ExecuteTime": {
     "end_time": "2023-10-27T10:58:45.448189Z",
     "start_time": "2023-10-27T10:58:42.201269Z"
    }
   },
   "id": "a89e1a63a6c033fb"
  },
  {
   "cell_type": "markdown",
   "source": [
    "# Do quality control\n",
    "Asses the spectra based on their quality, and remove low quality spectra"
   ],
   "metadata": {
    "collapsed": false
   },
   "id": "61b13fd9e23ddc42"
  },
  {
   "cell_type": "code",
   "execution_count": 11,
   "outputs": [
    {
     "name": "stdout",
     "output_type": "stream",
     "text": [
      "Intel MKL WARNING: Support of Intel(R) Streaming SIMD Extensions 4.2 (Intel(R) SSE4.2) enabled only processors has been deprecated. Intel oneAPI Math Kernel Library 2025.0 will require Intel(R) Advanced Vector Extensions (Intel(R) AVX) instructions.\n",
      "Intel MKL WARNING: Support of Intel(R) Streaming SIMD Extensions 4.2 (Intel(R) SSE4.2) enabled only processors has been deprecated. Intel oneAPI Math Kernel Library 2025.0 will require Intel(R) Advanced Vector Extensions (Intel(R) AVX) instructions.\n",
      "Intel MKL WARNING: Support of Intel(R) Streaming SIMD Extensions 4.2 (Intel(R) SSE4.2) enabled only processors has been deprecated. Intel oneAPI Math Kernel Library 2025.0 will require Intel(R) Advanced Vector Extensions (Intel(R) AVX) instructions.\n",
      "Intel MKL WARNING: Support of Intel(R) Streaming SIMD Extensions 4.2 (Intel(R) SSE4.2) enabled only processors has been deprecated. Intel oneAPI Math Kernel Library 2025.0 will require Intel(R) Advanced Vector Extensions (Intel(R) AVX) instructions.\n",
      "Intel MKL WARNING: Support of Intel(R) Streaming SIMD Extensions 4.2 (Intel(R) SSE4.2) enabled only processors has been deprecated. Intel oneAPI Math Kernel Library 2025.0 will require Intel(R) Advanced Vector Extensions (Intel(R) AVX) instructions.\n",
      "Intel MKL WARNING: Support of Intel(R) Streaming SIMD Extensions 4.2 (Intel(R) SSE4.2) enabled only processors has been deprecated. Intel oneAPI Math Kernel Library 2025.0 will require Intel(R) Advanced Vector Extensions (Intel(R) AVX) instructions.\n",
      "Intel MKL WARNING: Support of Intel(R) Streaming SIMD Extensions 4.2 (Intel(R) SSE4.2) enabled only processors has been deprecated. Intel oneAPI Math Kernel Library 2025.0 will require Intel(R) Advanced Vector Extensions (Intel(R) AVX) instructions.\n",
      "Intel MKL WARNING: Support of Intel(R) Streaming SIMD Extensions 4.2 (Intel(R) SSE4.2) enabled only processors has been deprecated. Intel oneAPI Math Kernel Library 2025.0 will require Intel(R) Advanced Vector Extensions (Intel(R) AVX) instructions.\n",
      "Intel MKL WARNING: Support of Intel(R) Streaming SIMD Extensions 4.2 (Intel(R) SSE4.2) enabled only processors has been deprecated. Intel oneAPI Math Kernel Library 2025.0 will require Intel(R) Advanced Vector Extensions (Intel(R) AVX) instructions.\n",
      "Intel MKL WARNING: Support of Intel(R) Streaming SIMD Extensions 4.2 (Intel(R) SSE4.2) enabled only processors has been deprecated. Intel oneAPI Math Kernel Library 2025.0 will require Intel(R) Advanced Vector Extensions (Intel(R) AVX) instructions.\n",
      "Intel MKL WARNING: Support of Intel(R) Streaming SIMD Extensions 4.2 (Intel(R) SSE4.2) enabled only processors has been deprecated. Intel oneAPI Math Kernel Library 2025.0 will require Intel(R) Advanced Vector Extensions (Intel(R) AVX) instructions.\n",
      "Intel MKL WARNING: Support of Intel(R) Streaming SIMD Extensions 4.2 (Intel(R) SSE4.2) enabled only processors has been deprecated. Intel oneAPI Math Kernel Library 2025.0 will require Intel(R) Advanced Vector Extensions (Intel(R) AVX) instructions.\n",
      "Intel MKL WARNING: Support of Intel(R) Streaming SIMD Extensions 4.2 (Intel(R) SSE4.2) enabled only processors has been deprecated. Intel oneAPI Math Kernel Library 2025.0 will require Intel(R) Advanced Vector Extensions (Intel(R) AVX) instructions.\n",
      "Intel MKL WARNING: Support of Intel(R) Streaming SIMD Extensions 4.2 (Intel(R) SSE4.2) enabled only processors has been deprecated. Intel oneAPI Math Kernel Library 2025.0 will require Intel(R) Advanced Vector Extensions (Intel(R) AVX) instructions.\n",
      "Intel MKL WARNING: Support of Intel(R) Streaming SIMD Extensions 4.2 (Intel(R) SSE4.2) enabled only processors has been deprecated. Intel oneAPI Math Kernel Library 2025.0 will require Intel(R) Advanced Vector Extensions (Intel(R) AVX) instructions.\n",
      "Intel MKL WARNING: Support of Intel(R) Streaming SIMD Extensions 4.2 (Intel(R) SSE4.2) enabled only processors has been deprecated. Intel oneAPI Math Kernel Library 2025.0 will require Intel(R) Advanced Vector Extensions (Intel(R) AVX) instructions.\n",
      "Analyzed 722 spectra in 5.08 seconds.\n",
      "Mean Score: 16871\n",
      "\n",
      "1st Quartile: 7319\n",
      "Median Score: 13751\n",
      "3rd Quartile: 22582\n",
      "\n",
      "Min Score: 0\n",
      "Max Score: 96616\n"
     ]
    }
   ],
   "source": [
    "path_in = Path(DATASET_OUT)\n",
    "path_out = Path(RESULT_DIR)\n",
    "\n",
    "if not os.path.exists(path_out):\n",
    "    os.makedirs(path_out)\n",
    "\n",
    "path_out_data = path_out / (path_in.stem + \"_qc.csv\")\n",
    "path_out_scores = path_out / (path_in.stem + \"_qc_scores.csv\")\n",
    "\n",
    "data = pd.read_csv(path_in)\n",
    "\n",
    "data_out, _, score_dict = qc.score_sort_spectra(data,\n",
    "                                                n=QC_NUM,\n",
    "                                                limits=[QC_LIM_LOW, QC_LIM_HIGH],\n",
    "                                                bl_method=\"asls\",\n",
    "                                                sg_window=QC_WINDOW,\n",
    "                                                threshold=QC_THRESHOLD,\n",
    "                                                min_height=QC_MIN_HEIGHT,\n",
    "                                                score_measure=QC_SCORE,\n",
    "                                                n_peaks_influence=QC_PEAKS,\n",
    "                                                detailed=True)\n",
    "\n",
    "visualize = False\n",
    "if visualize:\n",
    "\n",
    "    data_vis = data.drop(columns=[\"label\", \"file\", \"group\"]).values.astype(float)\n",
    "    wns_vis = data.drop(columns=[\"label\", \"file\", \"group\"]).columns.astype(float)\n",
    "\n",
    "    rl = RangeLimiter(lim=[QC_LIM_LOW, QC_LIM_HIGH],\n",
    "                      reference=wns_vis)\n",
    "\n",
    "    data_rl = rl.fit_transform(data_vis)\n",
    "    wns_rl = wns_vis[rl.lim_[0]:rl.lim_[1]]\n",
    "\n",
    "    plot_spectra_peaks(wns_rl,\n",
    "                       data_rl,\n",
    "                       score_dict[\"peak_pos\"],\n",
    "                       labels=score_dict[\"total_scores\"])\n",
    "\n",
    "data_out.to_csv(path_out_data, index=False)\n",
    "\n",
    "pd.DataFrame({score_names[QC_SCORE]: score_dict[\"intensity_scores\"],\n",
    "              \"N Peaks\": score_dict[\"peak_scores\"]}).to_csv(\n",
    "    path_out_scores, index=False\n",
    ")"
   ],
   "metadata": {
    "collapsed": false,
    "ExecuteTime": {
     "end_time": "2023-10-27T10:58:53.093743Z",
     "start_time": "2023-10-27T10:58:45.448706Z"
    }
   },
   "id": "73f701f36659ab53"
  },
  {
   "cell_type": "markdown",
   "source": [
    "# Preprocess the data"
   ],
   "metadata": {
    "collapsed": false
   },
   "id": "400014d013f6e91f"
  },
  {
   "cell_type": "code",
   "execution_count": 14,
   "outputs": [
    {
     "name": "stdout",
     "output_type": "stream",
     "text": [
      "Intel MKL WARNING: Support of Intel(R) Streaming SIMD Extensions 4.2 (Intel(R) SSE4.2) enabled only processors has been deprecated. Intel oneAPI Math Kernel Library 2025.0 will require Intel(R) Advanced Vector Extensions (Intel(R) AVX) instructions.\n",
      "Intel MKL WARNING: Support of Intel(R) Streaming SIMD Extensions 4.2 (Intel(R) SSE4.2) enabled only processors has been deprecated. Intel oneAPI Math Kernel Library 2025.0 will require Intel(R) Advanced Vector Extensions (Intel(R) AVX) instructions.\n",
      "Intel MKL WARNING: Support of Intel(R) Streaming SIMD Extensions 4.2 (Intel(R) SSE4.2) enabled only processors has been deprecated. Intel oneAPI Math Kernel Library 2025.0 will require Intel(R) Advanced Vector Extensions (Intel(R) AVX) instructions.\n",
      "Intel MKL WARNING: Support of Intel(R) Streaming SIMD Extensions 4.2 (Intel(R) SSE4.2) enabled only processors has been deprecated. Intel oneAPI Math Kernel Library 2025.0 will require Intel(R) Advanced Vector Extensions (Intel(R) AVX) instructions.\n",
      "Intel MKL WARNING: Support of Intel(R) Streaming SIMD Extensions 4.2 (Intel(R) SSE4.2) enabled only processors has been deprecated. Intel oneAPI Math Kernel Library 2025.0 will require Intel(R) Advanced Vector Extensions (Intel(R) AVX) instructions.\n",
      "Intel MKL WARNING: Support of Intel(R) Streaming SIMD Extensions 4.2 (Intel(R) SSE4.2) enabled only processors has been deprecated. Intel oneAPI Math Kernel Library 2025.0 will require Intel(R) Advanced Vector Extensions (Intel(R) AVX) instructions.\n",
      "Intel MKL WARNING: Support of Intel(R) Streaming SIMD Extensions 4.2 (Intel(R) SSE4.2) enabled only processors has been deprecated. Intel oneAPI Math Kernel Library 2025.0 will require Intel(R) Advanced Vector Extensions (Intel(R) AVX) instructions.\n",
      "Intel MKL WARNING: Support of Intel(R) Streaming SIMD Extensions 4.2 (Intel(R) SSE4.2) enabled only processors has been deprecated. Intel oneAPI Math Kernel Library 2025.0 will require Intel(R) Advanced Vector Extensions (Intel(R) AVX) instructions.\n",
      "Intel MKL WARNING: Support of Intel(R) Streaming SIMD Extensions 4.2 (Intel(R) SSE4.2) enabled only processors has been deprecated. Intel oneAPI Math Kernel Library 2025.0 will require Intel(R) Advanced Vector Extensions (Intel(R) AVX) instructions.\n",
      "Intel MKL WARNING: Support of Intel(R) Streaming SIMD Extensions 4.2 (Intel(R) SSE4.2) enabled only processors has been deprecated. Intel oneAPI Math Kernel Library 2025.0 will require Intel(R) Advanced Vector Extensions (Intel(R) AVX) instructions.\n",
      "Intel MKL WARNING: Support of Intel(R) Streaming SIMD Extensions 4.2 (Intel(R) SSE4.2) enabled only processors has been deprecated. Intel oneAPI Math Kernel Library 2025.0 will require Intel(R) Advanced Vector Extensions (Intel(R) AVX) instructions.\n",
      "Intel MKL WARNING: Support of Intel(R) Streaming SIMD Extensions 4.2 (Intel(R) SSE4.2) enabled only processors has been deprecated. Intel oneAPI Math Kernel Library 2025.0 will require Intel(R) Advanced Vector Extensions (Intel(R) AVX) instructions.\n",
      "Intel MKL WARNING: Support of Intel(R) Streaming SIMD Extensions 4.2 (Intel(R) SSE4.2) enabled only processors has been deprecated. Intel oneAPI Math Kernel Library 2025.0 will require Intel(R) Advanced Vector Extensions (Intel(R) AVX) instructions.\n",
      "Intel MKL WARNING: Support of Intel(R) Streaming SIMD Extensions 4.2 (Intel(R) SSE4.2) enabled only processors has been deprecated. Intel oneAPI Math Kernel Library 2025.0 will require Intel(R) Advanced Vector Extensions (Intel(R) AVX) instructions.\n",
      "Intel MKL WARNING: Support of Intel(R) Streaming SIMD Extensions 4.2 (Intel(R) SSE4.2) enabled only processors has been deprecated. Intel oneAPI Math Kernel Library 2025.0 will require Intel(R) Advanced Vector Extensions (Intel(R) AVX) instructions.\n",
      "Intel MKL WARNING: Support of Intel(R) Streaming SIMD Extensions 4.2 (Intel(R) SSE4.2) enabled only processors has been deprecated. Intel oneAPI Math Kernel Library 2025.0 will require Intel(R) Advanced Vector Extensions (Intel(R) AVX) instructions.\n"
     ]
    }
   ],
   "source": [
    "path_in = Path(QC_OUT)\n",
    "path_out = Path(RESULT_DIR)\n",
    "\n",
    "filename = path_in.stem.removesuffix(\"_qc\")\n",
    "\n",
    "if not os.path.exists(path_out):\n",
    "    os.makedirs(path_out)\n",
    "\n",
    "path_out = path_out / (filename + \"_preprocessed.csv\")\n",
    "\n",
    "data = load_data(QC_OUT)\n",
    "\n",
    "# save groups and remove column, otherwise preprocess wont work\n",
    "groups = np.asarray(data.group)\n",
    "data = data.drop(columns=[\"group\"])\n",
    "\n",
    "data_prep = preprocess(data, limits=[PREP_LIM_LOW, PREP_LIM_HIGH], sg_window=PREP_WINDOW)\n",
    "\n",
    "#add groups again\n",
    "data_prep.insert(2, \"group\", groups)\n",
    "\n",
    "data_prep.to_csv(path_out, index=False)"
   ],
   "metadata": {
    "collapsed": false,
    "ExecuteTime": {
     "end_time": "2023-10-27T11:03:44.472601Z",
     "start_time": "2023-10-27T11:03:41.003392Z"
    }
   },
   "id": "241a139a0b6a349f"
  },
  {
   "cell_type": "code",
   "execution_count": 12,
   "outputs": [],
   "source": [],
   "metadata": {
    "collapsed": false,
    "ExecuteTime": {
     "end_time": "2023-10-27T10:58:56.528550Z",
     "start_time": "2023-10-27T10:58:56.511060Z"
    }
   },
   "id": "59488b940e5c4f07"
  }
 ],
 "metadata": {
  "kernelspec": {
   "display_name": "Python 3",
   "language": "python",
   "name": "python3"
  },
  "language_info": {
   "codemirror_mode": {
    "name": "ipython",
    "version": 2
   },
   "file_extension": ".py",
   "mimetype": "text/x-python",
   "name": "python",
   "nbconvert_exporter": "python",
   "pygments_lexer": "ipython2",
   "version": "2.7.6"
  }
 },
 "nbformat": 4,
 "nbformat_minor": 5
}
